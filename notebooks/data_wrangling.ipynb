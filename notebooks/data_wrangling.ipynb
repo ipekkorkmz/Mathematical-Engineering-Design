{
 "cells": [
  {
   "cell_type": "code",
   "execution_count": 27,
   "id": "be4c5976",
   "metadata": {},
   "outputs": [],
   "source": [
    "import numpy as np \n",
    "import pandas as pd\n",
    "import dtale"
   ]
  },
  {
   "cell_type": "markdown",
   "id": "3c362384",
   "metadata": {},
   "source": [
    "As mentioned before, the data sets which cotain each EFTA countries' export values over the years is taken from [here](https://wits.worldbank.org/CountryProfile/en/Country/TUR/StartYear/2000/EndYear/2018/TradeFlow/Export/Partner/BY-COUNTRY/Indicator/XPRT-TRD-VL)."
   ]
  },
  {
   "cell_type": "code",
   "execution_count": 89,
   "id": "2aca0f44",
   "metadata": {},
   "outputs": [],
   "source": [
    "# https://wits.worldbank.org/CountryProfile/en/Country/TUR/StartYear/2000/EndYear/2018/TradeFlow/Export/Partner/BY-COUNTRY/Indicator/XPRT-TRD-VL\n",
    "\n",
    "iceland_export = pd.read_excel(\"data/iceland_exp.xlsx\", sheet_name='Partner-Timeseries')\n",
    "switzerland_export = pd.read_excel(\"data/switzerland_exp.xlsx\", sheet_name='Partner-Timeseries')\n",
    "norway_export = pd.read_excel(\"data/norway_exp.xlsx\", sheet_name='Partner-Timeseries')\n",
    "turkey_export = pd.read_excel(\"data/turkey_exp.xlsx\", sheet_name='Partner-Timeseries')"
   ]
  },
  {
   "cell_type": "markdown",
   "id": "1ea2caab",
   "metadata": {},
   "source": [
    "Data set that contains GDP and GDPPC values of each countries over the years is taken from [here](https://databank.worldbank.org/indicator/NY.GDP.MKTP.CD/1ff4a498/Popular-Indicators). Values after the 24th row is not taken, since there are nonmeaningful rows."
   ]
  },
  {
   "cell_type": "code",
   "execution_count": 90,
   "id": "79d6aa0e",
   "metadata": {
    "scrolled": true
   },
   "outputs": [],
   "source": [
    "# https://databank.worldbank.org/indicator/NY.GDP.MKTP.CD/1ff4a498/Popular-Indicators\n",
    "\n",
    "gdp_gdppc = pd.read_csv(\"data/gdp_gdppc.csv\")\n",
    "gdp_gdppc = gdp_gdppc[:24]"
   ]
  },
  {
   "cell_type": "markdown",
   "id": "c258ac14",
   "metadata": {},
   "source": [
    "Finally, Distance data set is imported."
   ]
  },
  {
   "cell_type": "code",
   "execution_count": 91,
   "id": "4303e214",
   "metadata": {},
   "outputs": [],
   "source": [
    "distance = pd.read_csv(\"data/distance.csv\")"
   ]
  },
  {
   "cell_type": "markdown",
   "id": "d992f7a5",
   "metadata": {},
   "source": [
    "In the datafarems which contains export values of EFTA counrties is needed to convert year columns to rows. So, to unpivot the dataframes, melt function is used. In this way, each year in the years_export list is became rows and the export value of the country in that year is in the same row."
   ]
  },
  {
   "cell_type": "code",
   "execution_count": 92,
   "id": "78030dd6",
   "metadata": {},
   "outputs": [],
   "source": [
    "years_export = ['1999','2000', '2001', '2002', '2003', '2004', '2005', '2006', '2007', '2008',\n",
    "                '2009', '2010', '2011', '2012', '2013', '2014', '2015', '2016', '2017', '2018', '2019']\n",
    "\n",
    "turkey_export = turkey_export.melt(id_vars=['Reporter Name','Partner Name'], value_vars=years_export,\n",
    "              var_name='Year', value_name ='Export_Value')\n",
    "norway_export = norway_export.melt(id_vars=['Reporter Name','Partner Name'], value_vars=years_export,\n",
    "              var_name='Year', value_name='Export_Value')\n",
    "iceland_export = iceland_export.melt(id_vars=['Reporter Name','Partner Name'], value_vars=years_export,\n",
    "              var_name='Year', value_name='Export_Value')\n",
    "switzerland_export = switzerland_export.melt(id_vars=['Reporter Name','Partner Name'], value_vars=years_export,\n",
    "              var_name='Year', value_name='Export_Value')"
   ]
  },
  {
   "cell_type": "markdown",
   "id": "ebe2587a",
   "metadata": {},
   "source": [
    "The countries will be examined is filtered foreach export dataframe."
   ]
  },
  {
   "cell_type": "code",
   "execution_count": 93,
   "id": "f9509a04",
   "metadata": {},
   "outputs": [],
   "source": [
    "turkey_export.rename(columns = {'Reporter Name' : 'Export', 'Partner Name' : 'Import'}, inplace = True)\n",
    "turkey_exp_country = ['China', 'France', 'Germany', 'Iceland', 'Italy', 'Netherlands',\n",
    "                     'Norway', 'Spain', 'Switzerland', 'United Kingdom', 'United States']\n",
    "turkey_export = turkey_export.loc[turkey_export['Import'].isin(turkey_exp_country)]"
   ]
  },
  {
   "cell_type": "code",
   "execution_count": 94,
   "id": "1157bb91",
   "metadata": {},
   "outputs": [],
   "source": [
    "norway_export.rename(columns = {'Reporter Name' : 'Export', 'Partner Name' : 'Import'}, inplace = True)\n",
    "norway_exp_country = ['China', 'France', 'Germany', 'Iceland', 'Italy', 'Netherlands',\n",
    "       'Spain', 'Switzerland', 'Turkey', 'United Kingdom', 'United States']\n",
    "norway_export = norway_export.loc[norway_export['Import'].isin(norway_exp_country)]"
   ]
  },
  {
   "cell_type": "code",
   "execution_count": 95,
   "id": "ff662d31",
   "metadata": {},
   "outputs": [],
   "source": [
    "switzerland_export.rename(columns = {'Reporter Name' : 'Export', 'Partner Name' : 'Import'}, inplace = True)\n",
    "switzerland_exp_country = ['China', 'France', 'Germany', 'Iceland', 'Italy', 'Netherlands',\n",
    "       'Norway', 'Spain', 'Turkey', 'United Kingdom', 'United States']\n",
    "switzerland_export=switzerland_export.loc[switzerland_export['Import'].isin(switzerland_exp_country)]"
   ]
  },
  {
   "cell_type": "code",
   "execution_count": 96,
   "id": "28064e5a",
   "metadata": {},
   "outputs": [],
   "source": [
    "iceland_export.rename(columns = {'Reporter Name' : 'Export', 'Partner Name' : 'Import'}, inplace = True)\n",
    "iceland_exp_country = ['China', 'France', 'Germany', 'Italy', 'Netherlands',\n",
    "       'Norway', 'Spain', 'Switzerland', 'Turkey', 'United Kingdom', 'United States']\n",
    "iceland_export=iceland_export.loc[iceland_export['Import'].isin(iceland_exp_country)]"
   ]
  },
  {
   "cell_type": "markdown",
   "id": "c335d0ed",
   "metadata": {},
   "source": [
    "4 data set containing export data of turkey, norway, switzerland, and iceland, respectively, is concatenated with using concat function."
   ]
  },
  {
   "cell_type": "code",
   "execution_count": 97,
   "id": "424f7b24",
   "metadata": {},
   "outputs": [],
   "source": [
    "export_data_all = pd.concat([turkey_export, norway_export, switzerland_export, iceland_export]).reset_index().drop(labels='index', axis=1) #birleştirdiğimiz data"
   ]
  },
  {
   "cell_type": "markdown",
   "id": "96358eac",
   "metadata": {},
   "source": [
    "Object columns, \"Year\" and \"Export_Value\", is converted to numeric columns."
   ]
  },
  {
   "cell_type": "code",
   "execution_count": 98,
   "id": "1185e4c4",
   "metadata": {},
   "outputs": [],
   "source": [
    "export_data_all[\"Year\"] = pd.to_numeric(export_data_all[\"Year\"])\n",
    "export_data_all[\"Export_Value\"] = pd.to_numeric(export_data_all[\"Export_Value\"])"
   ]
  },
  {
   "cell_type": "markdown",
   "id": "9b36a9f2",
   "metadata": {},
   "source": [
    "The data set is separeted into two as export_data_1999 and export_data for specifically the year 1999 and the rest, respectively. Since, 1999 year will be used only for previous year's export value, the main dataframe will include 2000-2019 which is called export_data."
   ]
  },
  {
   "cell_type": "code",
   "execution_count": 99,
   "id": "9d3e674e",
   "metadata": {},
   "outputs": [],
   "source": [
    "export_data_1999 = export_data_all[export_data_all['Year'] == 1999]\n",
    "export_data = export_data_all[export_data_all['Year'] != 1999]"
   ]
  },
  {
   "cell_type": "markdown",
   "id": "447503b1",
   "metadata": {},
   "source": [
    "Dataframe is tidied up, since GDP and GDPPC values of each countries is needed. Firstly, melt function is used to unpivot the dateframe to make year columns to rows."
   ]
  },
  {
   "cell_type": "code",
   "execution_count": 100,
   "id": "67ebdb6c",
   "metadata": {},
   "outputs": [],
   "source": [
    "years_gdp_gdppc = ['1999 [YR1999]', '2000 [YR2000]', '2001 [YR2001]', '2002 [YR2002]',\n",
    "                   '2003 [YR2003]', '2004 [YR2004]', '2005 [YR2005]', '2006 [YR2006]',\n",
    "                   '2007 [YR2007]', '2008 [YR2008]', '2009 [YR2009]', '2010 [YR2010]',\n",
    "                   '2011 [YR2011]', '2012 [YR2012]', '2013 [YR2013]', '2014 [YR2014]',\n",
    "                   '2015 [YR2015]', '2016 [YR2016]', '2017 [YR2017]', '2018 [YR2018]',\n",
    "                   '2019 [YR2019]']\n",
    "\n",
    "gdp_gdppc = gdp_gdppc.melt(id_vars=['Country Name','Series Name'], value_vars = years_gdp_gdppc,\n",
    "                           var_name='Year', value_name='Value')"
   ]
  },
  {
   "cell_type": "markdown",
   "id": "e6df5ce3",
   "metadata": {},
   "source": [
    "To arrange the 'Year' column, last 9 characters are deleted in the string."
   ]
  },
  {
   "cell_type": "code",
   "execution_count": 101,
   "id": "9d190c0e",
   "metadata": {},
   "outputs": [],
   "source": [
    "gdp_gdppc['Year'] = gdp_gdppc.apply(lambda row: row['Year'][:-9], axis=1)"
   ]
  },
  {
   "cell_type": "markdown",
   "id": "a3b67480",
   "metadata": {},
   "source": [
    "Object columns, \"Year\" and \"Value\", is converted to numeric columns."
   ]
  },
  {
   "cell_type": "code",
   "execution_count": 102,
   "id": "9c27f89d",
   "metadata": {},
   "outputs": [],
   "source": [
    "gdp_gdppc[\"Year\"] = pd.to_numeric(gdp_gdppc[\"Year\"]) # making years numeric\n",
    "gdp_gdppc[\"Value\"] = pd.to_numeric(gdp_gdppc[\"Value\"])"
   ]
  },
  {
   "cell_type": "markdown",
   "id": "796149b5",
   "metadata": {},
   "source": [
    "pivot_table function is used to transform the gdp and gdppc values in the \"Series Name\" column to columns."
   ]
  },
  {
   "cell_type": "code",
   "execution_count": 103,
   "id": "a742868c",
   "metadata": {},
   "outputs": [],
   "source": [
    "gdp_gdppc_col = pd.pivot_table(gdp_gdppc, index=[\"Country Name\",\"Year\"], columns=[\"Series Name\"]).reset_index()"
   ]
  },
  {
   "cell_type": "markdown",
   "id": "0a9fd3d6",
   "metadata": {},
   "source": [
    "Level of the dateframe is removed with using droplevel function."
   ]
  },
  {
   "cell_type": "code",
   "execution_count": 104,
   "id": "73e5001c",
   "metadata": {},
   "outputs": [],
   "source": [
    "gdp_gdppc_col.columns = gdp_gdppc_col.columns.droplevel()\n",
    "gdp_gdppc_col.columns = ['Country_Name', 'Year', 'GDP', 'GDP_per_capita']"
   ]
  },
  {
   "cell_type": "markdown",
   "id": "3af15a2a",
   "metadata": {},
   "source": [
    "The distance and previous year's export, GDP, and GDPPC values is needed to add the export_data dateframe. To add them row by row, while doing loop, itterrows function is used to keep index number and values in that row. Thus, with the help of the \"at\" function, the value in the row can be added to the relevant index of the export_data dateframe.\n",
    "\n",
    "Firstly, previous year's export value in the export_data_all dateframe is added to export_data. Following, the previous year's GDP and GDPPC values in the gdp_gdppc_col dateframe is added according to the export and import countries in that row. Finally, distance is added between countries."
   ]
  },
  {
   "cell_type": "code",
   "execution_count": 105,
   "id": "b6a4af4e",
   "metadata": {},
   "outputs": [],
   "source": [
    "for index, row in export_data.iterrows():\n",
    "    \n",
    "    export_data.at[index,'Export_Value_(t-1)'] = export_data_all[(export_data_all['Export']==row['Export']) &\n",
    "                                                                 (export_data_all['Import']==row['Import']) &\n",
    "                                                                 (export_data_all['Year']==(row['Year']-1))]['Export_Value'].values\n",
    "    \n",
    "    export_data.at[index,'GDP_i(t-1)'] = gdp_gdppc_col[(gdp_gdppc_col['Country_Name']==row['Export']) &\n",
    "                                                       (gdp_gdppc_col['Year']==(row['Year']-1))]['GDP'].values\n",
    "    export_data.at[index,'GDP_j(t-1)'] = gdp_gdppc_col[(gdp_gdppc_col['Country_Name']==row['Import']) &\n",
    "                                                       (gdp_gdppc_col['Year']==(row['Year']-1))]['GDP'].values\n",
    "    \n",
    "    export_data.at[index,'GDPPC_i(t-1)'] = gdp_gdppc_col[(gdp_gdppc_col['Country_Name']==row['Export']) &\n",
    "                                                         (gdp_gdppc_col['Year']==(row['Year']-1))]['GDP_per_capita'].values\n",
    "    export_data.at[index,'GDPPC_j(t-1)'] = gdp_gdppc_col[(gdp_gdppc_col['Country_Name']==row['Import']) &\n",
    "                                                         (gdp_gdppc_col['Year']==(row['Year']-1))]['GDP_per_capita'].values\n",
    "    \n",
    "    export_data.at[index,'D_ij'] = distance[(distance['Exp country']==row['Export']) &\n",
    "                                            (distance['country_j']==row['Import'])]['distance'].values"
   ]
  },
  {
   "cell_type": "markdown",
   "id": "2593c8bc",
   "metadata": {},
   "source": [
    "After the addition precess, the index is reseted."
   ]
  },
  {
   "cell_type": "code",
   "execution_count": 106,
   "id": "12225d81",
   "metadata": {
    "scrolled": true
   },
   "outputs": [],
   "source": [
    "export_data = export_data.reset_index()"
   ]
  },
  {
   "cell_type": "markdown",
   "id": "fdfda472",
   "metadata": {},
   "source": [
    "We assign countries that members of EFTA or nonmembers to lists."
   ]
  },
  {
   "cell_type": "code",
   "execution_count": 107,
   "id": "3a713778",
   "metadata": {},
   "outputs": [],
   "source": [
    "member = [\"Turkey\", \"Norway\", \"Iceland\", \"Switzerland\"]\n",
    "nonmember = [\"China\", \"Italy\", \"Germany\", \"France\", \"Spain\", \"United Kingdom\", \"United States\", \"Netherlands\"]"
   ]
  },
  {
   "cell_type": "markdown",
   "id": "2c89335d",
   "metadata": {},
   "source": [
    "To indicate if both countries are members of EFTA, a dummy column is added. It takes the value 1, otherwise it takes value 0."
   ]
  },
  {
   "cell_type": "code",
   "execution_count": 108,
   "id": "a8ea0c05",
   "metadata": {},
   "outputs": [],
   "source": [
    "dummy_1 = []\n",
    "\n",
    "for i in range(export_data.shape[0]):\n",
    "    if(export_data[\"Export\"][i] in member and export_data[\"Import\"][i] in member):\n",
    "        dummy_1.append(1)\n",
    "    else:\n",
    "        dummy_1.append(0)\n",
    "        \n",
    "export_data[\"FTA_1\"] = dummy_1"
   ]
  },
  {
   "cell_type": "markdown",
   "id": "8548db53",
   "metadata": {},
   "source": [
    "Second dummy takes value 1 if exporting country is a member of EFTA, but the importing country is not a member of EFTA, otherwise it takes value 0."
   ]
  },
  {
   "cell_type": "code",
   "execution_count": 109,
   "id": "67d50e53",
   "metadata": {},
   "outputs": [],
   "source": [
    "dummy_2 = []\n",
    "\n",
    "for i in range(export_data.shape[0]):\n",
    "    if(export_data[\"Export\"][i] in member and export_data[\"Import\"][i] in nonmember):\n",
    "        dummy_2.append(1)\n",
    "    else:\n",
    "        dummy_2.append(0)\n",
    "        \n",
    "export_data[\"FTA_2\"] = dummy_2"
   ]
  },
  {
   "cell_type": "markdown",
   "id": "b94bdadb",
   "metadata": {},
   "source": [
    "Column called index is dropped."
   ]
  },
  {
   "cell_type": "code",
   "execution_count": 86,
   "id": "3976d400",
   "metadata": {},
   "outputs": [],
   "source": [
    "export_data = export_data.drop('index', axis=1)"
   ]
  },
  {
   "cell_type": "markdown",
   "id": "6c25ee96",
   "metadata": {},
   "source": [
    "Dataset is sorted by year, exporting country and importing country, respectively."
   ]
  },
  {
   "cell_type": "code",
   "execution_count": 87,
   "id": "7d7fe02d",
   "metadata": {},
   "outputs": [],
   "source": [
    "export_data.sort_values(['Year', 'Export', 'Import'], inplace=True)\n",
    "export_data = export_data.reset_index().drop('index', axis=1)"
   ]
  },
  {
   "cell_type": "code",
   "execution_count": 25,
   "id": "8c3faa1c",
   "metadata": {},
   "outputs": [],
   "source": [
    "#export_data.to_csv('data/export_data_all.csv', index=False)"
   ]
  },
  {
   "cell_type": "code",
   "execution_count": 26,
   "id": "79bedb80",
   "metadata": {
    "scrolled": true
   },
   "outputs": [
    {
     "data": {
      "text/html": [
       "\n",
       "        <iframe\n",
       "            width=\"100%\"\n",
       "            height=\"475\"\n",
       "            src=\"http://DESKTOP-I3UICTI:40000/dtale/iframe/1\"\n",
       "            frameborder=\"0\"\n",
       "            allowfullscreen\n",
       "        ></iframe>\n",
       "        "
      ],
      "text/plain": [
       "<IPython.lib.display.IFrame at 0x195ef143820>"
      ]
     },
     "metadata": {},
     "output_type": "display_data"
    },
    {
     "data": {
      "text/plain": []
     },
     "execution_count": 26,
     "metadata": {},
     "output_type": "execute_result"
    }
   ],
   "source": [
    "dtale.show(export_data)"
   ]
  },
  {
   "cell_type": "code",
   "execution_count": null,
   "id": "ab9cb122",
   "metadata": {},
   "outputs": [],
   "source": []
  }
 ],
 "metadata": {
  "kernelspec": {
   "display_name": "Python 3 (ipykernel)",
   "language": "python",
   "name": "python3"
  },
  "language_info": {
   "codemirror_mode": {
    "name": "ipython",
    "version": 3
   },
   "file_extension": ".py",
   "mimetype": "text/x-python",
   "name": "python",
   "nbconvert_exporter": "python",
   "pygments_lexer": "ipython3",
   "version": "3.9.7"
  }
 },
 "nbformat": 4,
 "nbformat_minor": 5
}
